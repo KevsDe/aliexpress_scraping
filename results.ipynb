{
 "cells": [
  {
   "cell_type": "code",
   "execution_count": 1,
   "id": "adapted-central",
   "metadata": {},
   "outputs": [],
   "source": [
    "import pandas as pd"
   ]
  },
  {
   "cell_type": "code",
   "execution_count": 2,
   "id": "removable-engineering",
   "metadata": {},
   "outputs": [],
   "source": [
    "df = pd.read_csv('output/export_dataframe.csv')  "
   ]
  },
  {
   "cell_type": "code",
   "execution_count": 3,
   "id": "agricultural-perry",
   "metadata": {},
   "outputs": [
    {
     "data": {
      "text/html": [
       "<div>\n",
       "<style scoped>\n",
       "    .dataframe tbody tr th:only-of-type {\n",
       "        vertical-align: middle;\n",
       "    }\n",
       "\n",
       "    .dataframe tbody tr th {\n",
       "        vertical-align: top;\n",
       "    }\n",
       "\n",
       "    .dataframe thead th {\n",
       "        text-align: right;\n",
       "    }\n",
       "</style>\n",
       "<table border=\"1\" class=\"dataframe\">\n",
       "  <thead>\n",
       "    <tr style=\"text-align: right;\">\n",
       "      <th></th>\n",
       "      <th>url</th>\n",
       "      <th>title</th>\n",
       "      <th>price</th>\n",
       "      <th>shipping</th>\n",
       "      <th>sales</th>\n",
       "    </tr>\n",
       "  </thead>\n",
       "  <tbody>\n",
       "    <tr>\n",
       "      <th>0</th>\n",
       "      <td>es.aliexpress.com/item/1005001463065208.html</td>\n",
       "      <td>5 capas KN95 máscara 4-17 años chico KN95 másc...</td>\n",
       "      <td>18.66</td>\n",
       "      <td>0</td>\n",
       "      <td>12.0</td>\n",
       "    </tr>\n",
       "    <tr>\n",
       "      <th>1</th>\n",
       "      <td>es.aliexpress.com/item/1005001411739709.html</td>\n",
       "      <td>Mascarillas KN95 FFP2 reutilizables, máscara c...</td>\n",
       "      <td>4.11</td>\n",
       "      <td>0</td>\n",
       "      <td>12.0</td>\n",
       "    </tr>\n",
       "    <tr>\n",
       "      <th>2</th>\n",
       "      <td>es.aliexpress.com/item/4001309857952.html</td>\n",
       "      <td>Mascarilla facial protectora FFP2 KN95 con fil...</td>\n",
       "      <td>12.43</td>\n",
       "      <td>0</td>\n",
       "      <td>12.0</td>\n",
       "    </tr>\n",
       "    <tr>\n",
       "      <th>3</th>\n",
       "      <td>es.aliexpress.com/item/4001119543551.html</td>\n",
       "      <td>Mascarilla facial ffp2 antipolvo, máscara KN95...</td>\n",
       "      <td>2.98</td>\n",
       "      <td>0</td>\n",
       "      <td>12.0</td>\n",
       "    </tr>\n",
       "    <tr>\n",
       "      <th>4</th>\n",
       "      <td>es.aliexpress.com/item/4001106144312.html</td>\n",
       "      <td>Mascarilla de 5 capas KN95 con válvula FFP2, m...</td>\n",
       "      <td>2.85</td>\n",
       "      <td>0</td>\n",
       "      <td>12.0</td>\n",
       "    </tr>\n",
       "  </tbody>\n",
       "</table>\n",
       "</div>"
      ],
      "text/plain": [
       "                                            url  \\\n",
       "0  es.aliexpress.com/item/1005001463065208.html   \n",
       "1  es.aliexpress.com/item/1005001411739709.html   \n",
       "2     es.aliexpress.com/item/4001309857952.html   \n",
       "3     es.aliexpress.com/item/4001119543551.html   \n",
       "4     es.aliexpress.com/item/4001106144312.html   \n",
       "\n",
       "                                               title  price shipping  sales  \n",
       "0  5 capas KN95 máscara 4-17 años chico KN95 másc...  18.66        0   12.0  \n",
       "1  Mascarillas KN95 FFP2 reutilizables, máscara c...   4.11        0   12.0  \n",
       "2  Mascarilla facial protectora FFP2 KN95 con fil...  12.43        0   12.0  \n",
       "3  Mascarilla facial ffp2 antipolvo, máscara KN95...   2.98        0   12.0  \n",
       "4  Mascarilla de 5 capas KN95 con válvula FFP2, m...   2.85        0   12.0  "
      ]
     },
     "execution_count": 3,
     "metadata": {},
     "output_type": "execute_result"
    }
   ],
   "source": [
    "df.head()"
   ]
  },
  {
   "cell_type": "code",
   "execution_count": 4,
   "id": "still-australian",
   "metadata": {},
   "outputs": [
    {
     "name": "stdout",
     "output_type": "stream",
     "text": [
      "The number of total orders is 1456259.0\n"
     ]
    }
   ],
   "source": [
    "print(f'The number of total orders is {df.sales.sum()}')"
   ]
  },
  {
   "cell_type": "code",
   "execution_count": 5,
   "id": "angry-learning",
   "metadata": {},
   "outputs": [
    {
     "name": "stdout",
     "output_type": "stream",
     "text": [
      "The average price is 10.91\n"
     ]
    }
   ],
   "source": [
    "print(f'The average price is {df.price.mean():.2f}')"
   ]
  },
  {
   "cell_type": "code",
   "execution_count": 6,
   "id": "different-worthy",
   "metadata": {},
   "outputs": [
    {
     "data": {
      "text/plain": [
       "(3600, 5)"
      ]
     },
     "execution_count": 6,
     "metadata": {},
     "output_type": "execute_result"
    }
   ],
   "source": [
    "df.shape"
   ]
  }
 ],
 "metadata": {
  "kernelspec": {
   "display_name": "Python 3",
   "language": "python",
   "name": "python3"
  },
  "language_info": {
   "codemirror_mode": {
    "name": "ipython",
    "version": 3
   },
   "file_extension": ".py",
   "mimetype": "text/x-python",
   "name": "python",
   "nbconvert_exporter": "python",
   "pygments_lexer": "ipython3",
   "version": "3.8.5"
  }
 },
 "nbformat": 4,
 "nbformat_minor": 5
}
