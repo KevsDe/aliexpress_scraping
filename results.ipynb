{
 "cells": [
  {
   "cell_type": "code",
   "execution_count": 1,
   "id": "labeled-scheduling",
   "metadata": {},
   "outputs": [],
   "source": [
    "import pandas as pd"
   ]
  },
  {
   "cell_type": "code",
   "execution_count": 2,
   "id": "sharing-porcelain",
   "metadata": {},
   "outputs": [],
   "source": [
    "df = pd.read_csv('output/export_dataframe.csv')  "
   ]
  },
  {
   "cell_type": "code",
   "execution_count": 3,
   "id": "coordinate-sweet",
   "metadata": {},
   "outputs": [],
   "source": [
    "df = df.sort_values(by='sales',ascending=False)"
   ]
  },
  {
   "cell_type": "code",
   "execution_count": 4,
   "id": "considerable-employee",
   "metadata": {},
   "outputs": [
    {
     "data": {
      "text/html": [
       "<div>\n",
       "<style scoped>\n",
       "    .dataframe tbody tr th:only-of-type {\n",
       "        vertical-align: middle;\n",
       "    }\n",
       "\n",
       "    .dataframe tbody tr th {\n",
       "        vertical-align: top;\n",
       "    }\n",
       "\n",
       "    .dataframe thead th {\n",
       "        text-align: right;\n",
       "    }\n",
       "</style>\n",
       "<table border=\"1\" class=\"dataframe\">\n",
       "  <thead>\n",
       "    <tr style=\"text-align: right;\">\n",
       "      <th></th>\n",
       "      <th>url</th>\n",
       "      <th>title</th>\n",
       "      <th>price</th>\n",
       "      <th>shipping</th>\n",
       "      <th>sales</th>\n",
       "    </tr>\n",
       "  </thead>\n",
       "  <tbody>\n",
       "    <tr>\n",
       "      <th>969</th>\n",
       "      <td>es.aliexpress.com/item/1005001411274644.html</td>\n",
       "      <td>5-100 pieza FFP2 Mascarillas KN95 Facial másca...</td>\n",
       "      <td>2.34</td>\n",
       "      <td>0</td>\n",
       "      <td>61505.0</td>\n",
       "    </tr>\n",
       "    <tr>\n",
       "      <th>970</th>\n",
       "      <td>es.aliexpress.com/item/1005001677059029.html</td>\n",
       "      <td>Mascarilla KN95 de 5 capas, máscara respirador...</td>\n",
       "      <td>3.35</td>\n",
       "      <td>0</td>\n",
       "      <td>38064.0</td>\n",
       "    </tr>\n",
       "    <tr>\n",
       "      <th>971</th>\n",
       "      <td>es.aliexpress.com/item/4001154391902.html</td>\n",
       "      <td>Máscara facial KN95 con filtro de 5 capas, mas...</td>\n",
       "      <td>1.67</td>\n",
       "      <td>0</td>\n",
       "      <td>34391.0</td>\n",
       "    </tr>\n",
       "    <tr>\n",
       "      <th>972</th>\n",
       "      <td>es.aliexpress.com/item/4001154695231.html</td>\n",
       "      <td>10-200 ffp2 cara máscara máscaras faciales de ...</td>\n",
       "      <td>3.17</td>\n",
       "      <td>0</td>\n",
       "      <td>31917.0</td>\n",
       "    </tr>\n",
       "    <tr>\n",
       "      <th>973</th>\n",
       "      <td>es.aliexpress.com/item/1005001775844337.html</td>\n",
       "      <td>Mascarilla facial protectora KN95 de 5 capas, ...</td>\n",
       "      <td>2.54</td>\n",
       "      <td>0</td>\n",
       "      <td>24401.0</td>\n",
       "    </tr>\n",
       "  </tbody>\n",
       "</table>\n",
       "</div>"
      ],
      "text/plain": [
       "                                              url  \\\n",
       "969  es.aliexpress.com/item/1005001411274644.html   \n",
       "970  es.aliexpress.com/item/1005001677059029.html   \n",
       "971     es.aliexpress.com/item/4001154391902.html   \n",
       "972     es.aliexpress.com/item/4001154695231.html   \n",
       "973  es.aliexpress.com/item/1005001775844337.html   \n",
       "\n",
       "                                                 title  price shipping  \\\n",
       "969  5-100 pieza FFP2 Mascarillas KN95 Facial másca...   2.34        0   \n",
       "970  Mascarilla KN95 de 5 capas, máscara respirador...   3.35        0   \n",
       "971  Máscara facial KN95 con filtro de 5 capas, mas...   1.67        0   \n",
       "972  10-200 ffp2 cara máscara máscaras faciales de ...   3.17        0   \n",
       "973  Mascarilla facial protectora KN95 de 5 capas, ...   2.54        0   \n",
       "\n",
       "       sales  \n",
       "969  61505.0  \n",
       "970  38064.0  \n",
       "971  34391.0  \n",
       "972  31917.0  \n",
       "973  24401.0  "
      ]
     },
     "execution_count": 4,
     "metadata": {},
     "output_type": "execute_result"
    }
   ],
   "source": [
    "df.head()"
   ]
  },
  {
   "cell_type": "code",
   "execution_count": 5,
   "id": "hungarian-suspension",
   "metadata": {},
   "outputs": [
    {
     "name": "stdout",
     "output_type": "stream",
     "text": [
      "The number of total orders is 1456259.0\n"
     ]
    }
   ],
   "source": [
    "print(f'The number of total orders is {df.sales.sum()}')"
   ]
  },
  {
   "cell_type": "code",
   "execution_count": 6,
   "id": "speaking-consistency",
   "metadata": {},
   "outputs": [
    {
     "name": "stdout",
     "output_type": "stream",
     "text": [
      "The average price is 10.91\n"
     ]
    }
   ],
   "source": [
    "print(f'The average price is {df.price.mean():.2f}')"
   ]
  },
  {
   "cell_type": "code",
   "execution_count": 7,
   "id": "homeless-first",
   "metadata": {},
   "outputs": [
    {
     "data": {
      "text/plain": [
       "(3600, 5)"
      ]
     },
     "execution_count": 7,
     "metadata": {},
     "output_type": "execute_result"
    }
   ],
   "source": [
    "df.shape"
   ]
  }
 ],
 "metadata": {
  "kernelspec": {
   "display_name": "Python 3",
   "language": "python",
   "name": "python3"
  },
  "language_info": {
   "codemirror_mode": {
    "name": "ipython",
    "version": 3
   },
   "file_extension": ".py",
   "mimetype": "text/x-python",
   "name": "python",
   "nbconvert_exporter": "python",
   "pygments_lexer": "ipython3",
   "version": "3.8.5"
  }
 },
 "nbformat": 4,
 "nbformat_minor": 5
}
